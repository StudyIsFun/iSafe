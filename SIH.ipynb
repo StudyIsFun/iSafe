{
  "nbformat": 4,
  "nbformat_minor": 0,
  "metadata": {
    "colab": {
      "name": "SIH.ipynb",
      "provenance": []
    },
    "kernelspec": {
      "name": "python3",
      "display_name": "Python 3"
    }
  },
  "cells": [
    {
      "cell_type": "markdown",
      "metadata": {
        "id": "wWMjHGp9VWoW",
        "colab_type": "text"
      },
      "source": [
        "# **Unsafe area near me** & \n",
        "\n",
        "---\n",
        "# **unsafe areas in given routes**"
      ]
    },
    {
      "cell_type": "code",
      "metadata": {
        "id": "yzaPSG7ocPf8",
        "colab_type": "code",
        "outputId": "4c76bd73-993f-495f-e328-6d9ac77966b3",
        "colab": {
          "base_uri": "https://localhost:8080/",
          "height": 486
        }
      },
      "source": [
        "import json\n",
        "data_near_me = [{\"lat\":\"31.2456\",\"lon\":\"72.3456\",\"detail\":\"xyz\"},{\"lat\":\"33.2456\",\"lon\":\"82.3456\",\"detail\":\"abc\"},{\"lat\":\"39.2456\",\"lon\":\"62.3456\",\"detail\":\"pqr\"},{\"lat\":\"41.2456\",\"lon\":\"77.3456\",\"detail\":\"xyz1\"},{\"lat\":\"35.2456\",\"lon\":\"74.3456\",\"detail\":\"xyz1\"}]\n",
        "json_data = json.dumps(data_near_me,indent=3,sort_keys=True)\n",
        "print(json_data)"
      ],
      "execution_count": 0,
      "outputs": [
        {
          "output_type": "stream",
          "text": [
            "[\n",
            "   {\n",
            "      \"detail\": \"xyz\",\n",
            "      \"lat\": \"31.2456\",\n",
            "      \"lon\": \"72.3456\"\n",
            "   },\n",
            "   {\n",
            "      \"detail\": \"abc\",\n",
            "      \"lat\": \"33.2456\",\n",
            "      \"lon\": \"82.3456\"\n",
            "   },\n",
            "   {\n",
            "      \"detail\": \"pqr\",\n",
            "      \"lat\": \"39.2456\",\n",
            "      \"lon\": \"62.3456\"\n",
            "   },\n",
            "   {\n",
            "      \"detail\": \"xyz1\",\n",
            "      \"lat\": \"41.2456\",\n",
            "      \"lon\": \"77.3456\"\n",
            "   },\n",
            "   {\n",
            "      \"detail\": \"xyz1\",\n",
            "      \"lat\": \"35.2456\",\n",
            "      \"lon\": \"74.3456\"\n",
            "   }\n",
            "]\n"
          ],
          "name": "stdout"
        }
      ]
    },
    {
      "cell_type": "markdown",
      "metadata": {
        "id": "dc7zdA_fVtSj",
        "colab_type": "text"
      },
      "source": [
        "# **Details to send SOS**\n",
        "\n",
        "---\n",
        "police station ID and prime contact id\n"
      ]
    },
    {
      "cell_type": "code",
      "metadata": {
        "id": "AQBDE26aUwvY",
        "colab_type": "code",
        "outputId": "29bf4f5d-e2e5-45fc-ea98-c55bd3a2bcf2",
        "colab": {
          "base_uri": "https://localhost:8080/",
          "height": 121
        }
      },
      "source": [
        "sos_detail = [{\"prime_contact\":\"Xabps1234nsmp\",\"nearest_police\":\"XXppnash4568mp\"}]\n",
        "sos_data = json.dumps(sos_detail,indent=3,sort_keys=True)\n",
        "print(sos_data)"
      ],
      "execution_count": 0,
      "outputs": [
        {
          "output_type": "stream",
          "text": [
            "[\n",
            "   {\n",
            "      \"nearest_police\": \"XXppnash4568mp\",\n",
            "      \"prime_contact\": \"Xabps1234nsmp\"\n",
            "   }\n",
            "]\n"
          ],
          "name": "stdout"
        }
      ]
    },
    {
      "cell_type": "markdown",
      "metadata": {
        "id": "JjQ0QximXGEv",
        "colab_type": "text"
      },
      "source": [
        ""
      ]
    }
  ]
}